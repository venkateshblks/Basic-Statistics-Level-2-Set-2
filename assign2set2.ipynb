{
 "cells": [
  {
   "cell_type": "markdown",
   "id": "051eb49c",
   "metadata": {},
   "source": [
    "1.\tThe time required for servicing transmissions is normally distributed with  = 45 minutes and  = 8 minutes. The service manager plans to have work begin on the transmission of a customer’s car 10 minutes after the car is dropped   off and the customer is told that the car will be ready within 1 hour from drop-off. What is the probability that the service manager cannot meet his commitment? \n",
    "A.\t0.3875   \n",
    "B.\t0.2676   \n",
    "C.\t0.5   \n",
    "D.\t0.6987 \n"
   ]
  },
  {
   "cell_type": "code",
   "execution_count": 1,
   "id": "801cac88",
   "metadata": {},
   "outputs": [
    {
     "data": {
      "text/plain": [
       "0.26598552904870054"
      ]
     },
     "execution_count": 1,
     "metadata": {},
     "output_type": "execute_result"
    }
   ],
   "source": [
    "from scipy import stats\n",
    "1-stats.norm.cdf(50,45,8)  #p(x>50)=1-p(x<=50)\n",
    "# the serving work will began after 10 min  so 45+10 =50 "
   ]
  },
  {
   "cell_type": "markdown",
   "id": "f03b51ba",
   "metadata": {},
   "source": [
    "So the answer is 0.2676 (Option B)"
   ]
  },
  {
   "cell_type": "markdown",
   "id": "32ecd9ea",
   "metadata": {},
   "source": [
    "2.\tThe current age (in years) of 400 clerical employees at an insurance claims processing center is normally distributed with mean u = 38 and Standard deviation  v=6. For each statement below, please specify True/False. If false, briefly explain why.\n",
    "\n",
    "A.More employees at the processing center are older than 44 than between 38 and 44.\n",
    "\n",
    "B.A training program for employees under the age of 30 at the center would be expected to attract about 36 employees.\n"
   ]
  },
  {
   "cell_type": "code",
   "execution_count": 2,
   "id": "5fb1e004",
   "metadata": {},
   "outputs": [
    {
     "name": "stdout",
     "output_type": "stream",
     "text": [
      "Older than 44 : 0.15865525393145707\n",
      "between 38 and 44:  0.3413447460685429\n",
      "So More employees at the processing center are older than 44 than between 38 and 44 is False\n"
     ]
    }
   ],
   "source": [
    "n=400\n",
    "mean=38\n",
    "std=6\n",
    "print('Older than 44 :',1-stats.norm.cdf(44,mean,std))\n",
    "print('between 38 and 44: ',(stats.norm.cdf(44,mean,std))-(stats.norm.cdf(38,mean,std)))\n",
    "print('So More employees at the processing center are older than 44 than between 38 and 44 is False')"
   ]
  },
  {
   "cell_type": "code",
   "execution_count": 3,
   "id": "bcddd05e",
   "metadata": {},
   "outputs": [
    {
     "name": "stdout",
     "output_type": "stream",
     "text": [
      "under the age of 30  36.484487890347154\n",
      "A training program for employees under the age of 30 at the center would be expected to attract about 36 employees is True\n"
     ]
    }
   ],
   "source": [
    "print('under the age of 30 ',stats.norm.cdf(30,mean,std)*400)\n",
    "print('A training program for employees under the age of 30 at the center would be expected to attract about 36 employees is True')"
   ]
  },
  {
   "cell_type": "markdown",
   "id": "bc67fdbb",
   "metadata": {},
   "source": [
    "3.\tIf X1 ~ N(μ, σ2) and X2 ~ N(μ, σ2) are iid normal random variables, then what is the difference between 2 X1 and X1 + X2? Discuss both their distributions and parameters.       "
   ]
  },
  {
   "cell_type": "markdown",
   "id": "a646ef87",
   "metadata": {},
   "source": [
    "the mean of X1 or X2 is μ and the variance of X1 or X2 is σ2\n",
    "\n",
    "the mean of 2X1 will be 2μ \n",
    "\n",
    "the variance of 2X1 will be 4σ2\n",
    "\n",
    "the mean of X1 + X2 will be 2μ\n",
    "\n",
    "the variance of X1 +X2 will be 2σ2\n",
    "\n",
    "the difference lies in their variance because the variance of the sum of independent random variables is not simply multipied by a constant when a random variable is added"
   ]
  },
  {
   "cell_type": "markdown",
   "id": "5fb49929",
   "metadata": {},
   "source": [
    "4.\tLet X ~ N(100, 20^2). Find two values, a and b, symmetric about the mean, such that the probability of the random variable taking a value between them is 0.99. \n",
    "\n",
    "A.\t90.5, 105.9 \n",
    "B.\t80.2, 119.8 \n",
    "C.\t22, 78 \n",
    "D.\t48.5, 151.5 \n",
    "E.\t90.1, 109.9\n"
   ]
  },
  {
   "cell_type": "code",
   "execution_count": 4,
   "id": "332107fa",
   "metadata": {},
   "outputs": [
    {
     "data": {
      "text/plain": [
       "(48.48341392902199, 151.516586070978)"
      ]
     },
     "execution_count": 4,
     "metadata": {},
     "output_type": "execute_result"
    }
   ],
   "source": [
    "stats.norm.interval(0.99,100,20)  # Option D"
   ]
  },
  {
   "cell_type": "markdown",
   "id": "0ea8d0d8",
   "metadata": {},
   "source": [
    "\n",
    "5.\tConsider a company that has two different divisions. The annual profits from the two divisions are independent and have distributions Profit1 ~ N(5, 3^2) and Profit2 ~ N(7, 4^2) respectively. Both the profits are in $ Million. Answer the following questions about the total profit of the company in Rupees. Assume that $1 = Rs. 45\n",
    "\n",
    "A.\tSpecify a Rupee range (centered on the mean) such that it contains 95% probability for the annual profit of the company.\n",
    "\n",
    "B.\tSpecify the 5th percentile of profit (in Rupees) for the company\n",
    "\n",
    "C.\tWhich of the two divisions has a larger probability of making a loss in a given year?\n"
   ]
  },
  {
   "cell_type": "code",
   "execution_count": 5,
   "id": "94376a79",
   "metadata": {},
   "outputs": [
    {
     "name": "stdout",
     "output_type": "stream",
     "text": [
      "Range is  (99.00810347848784, 980.9918965215122) in Millions Rupees\n"
     ]
    }
   ],
   "source": [
    "# Specify a Rupee range (centered on the mean) such that it contains 95% probability for the annual profit of the company.\n",
    "mean=5+7 #sum of the mean\n",
    "std=5  #sqrt(3^2+4^2)\n",
    "mean=mean*45  # $1 = Rs. 45\n",
    "std=std*45\n",
    "print('Range is ',stats.norm.interval(0.95,mean,std),'in Millions Rupees')"
   ]
  },
  {
   "cell_type": "code",
   "execution_count": 6,
   "id": "46bd7703",
   "metadata": {},
   "outputs": [
    {
     "name": "stdout",
     "output_type": "stream",
     "text": [
      "5th percentile of profit (in Million Rupees) is  169.9079339359186\n"
     ]
    }
   ],
   "source": [
    "#  Specify the 5th percentile of profit (in Rupees) for the company\n",
    "# X=mean + z*std\n",
    "z=stats.norm.ppf(0.05)\n",
    "print('5th percentile of profit (in Million Rupees) is ',mean + z*std)"
   ]
  },
  {
   "cell_type": "code",
   "execution_count": 7,
   "id": "f06c82a9",
   "metadata": {},
   "outputs": [
    {
     "name": "stdout",
     "output_type": "stream",
     "text": [
      "the probability of division 1 of making a loss  0.0477903522728147\n",
      "the probability of division 2 of making a loss  0.040059156863817086\n"
     ]
    },
    {
     "data": {
      "text/plain": [
       "'Therefore the Division 1 has a larger Probability of making a loss'"
      ]
     },
     "execution_count": 7,
     "metadata": {},
     "output_type": "execute_result"
    }
   ],
   "source": [
    "# Which of the two divisions has a larger probability of making a loss in a given year?\n",
    "print('the probability of division 1 of making a loss ',stats.norm.cdf(0,5,3))\n",
    "print('the probability of division 2 of making a loss ',stats.norm.cdf(0,7,4))\n",
    "'Therefore the Division 1 has a larger Probability of making a loss'                                                "
   ]
  },
  {
   "cell_type": "code",
   "execution_count": null,
   "id": "0420433b",
   "metadata": {},
   "outputs": [],
   "source": []
  }
 ],
 "metadata": {
  "kernelspec": {
   "display_name": "Python 3 (ipykernel)",
   "language": "python",
   "name": "python3"
  },
  "language_info": {
   "codemirror_mode": {
    "name": "ipython",
    "version": 3
   },
   "file_extension": ".py",
   "mimetype": "text/x-python",
   "name": "python",
   "nbconvert_exporter": "python",
   "pygments_lexer": "ipython3",
   "version": "3.11.5"
  }
 },
 "nbformat": 4,
 "nbformat_minor": 5
}
